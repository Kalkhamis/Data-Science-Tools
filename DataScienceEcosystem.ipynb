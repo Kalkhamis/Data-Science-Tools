{
 "cells": [
  {
   "cell_type": "markdown",
   "id": "d51e5074-4cb6-4ab9-b451-9a6d0851535d",
   "metadata": {},
   "source": [
    "# Data Science Tools and Ecosystem"
   ]
  },
  {
   "cell_type": "markdown",
   "id": "203925fb-58c0-4611-8dfd-292fda0d993f",
   "metadata": {},
   "source": [
    "In this notebook, Data Science Tools and Ecosystem are summarized"
   ]
  },
  {
   "cell_type": "markdown",
   "id": "592adca8-2a78-4f44-8413-e192c81aa1da",
   "metadata": {
    "tags": []
   },
   "source": [
    "Some of the popular languages that Data Scientists use are:\n",
    "1. Python\n",
    "2. R\n",
    "3. Julia\n"
   ]
  },
  {
   "cell_type": "markdown",
   "id": "92bbde43-090a-4d5f-b3cd-6e76be5ba760",
   "metadata": {},
   "source": [
    "Some of the commonly used libraries used by Data Scientists include:\n",
    "1. Pandas\n",
    "2. NumPy\n",
    "3. Matplotlib\n"
   ]
  },
  {
   "cell_type": "markdown",
   "id": "fca2ba4a-90d7-4f23-9d9b-d521b5043bfc",
   "metadata": {},
   "source": [
    "| Data Science Tools        |\n",
    "|---------------------------|\n",
    "| 1. Jupyter Notebook       |\n",
    "| 2. RStudio                |\n",
    "| 3. VS Code with Python    |\n"
   ]
  },
  {
   "cell_type": "markdown",
   "id": "719c4b50-df86-44e3-930f-89c60447db15",
   "metadata": {},
   "source": [
    "### Below are a few examples of evaluating arithmetic expressions in Python.\n"
   ]
  },
  {
   "cell_type": "code",
   "execution_count": 2,
   "id": "9ca8d38c-2191-488c-9cc1-334dfe543b3c",
   "metadata": {
    "tags": []
   },
   "outputs": [
    {
     "data": {
      "text/plain": [
       "17"
      ]
     },
     "execution_count": 2,
     "metadata": {},
     "output_type": "execute_result"
    }
   ],
   "source": [
    "# This is a simple arithmetic expression to multiply and then add integers.\n",
    "(3*4)+5\n"
   ]
  },
  {
   "cell_type": "code",
   "execution_count": 3,
   "id": "b239ea8a-8323-4d60-ad5f-d039fbaeb1ba",
   "metadata": {
    "tags": []
   },
   "outputs": [
    {
     "data": {
      "text/plain": [
       "3.3333333333333335"
      ]
     },
     "execution_count": 3,
     "metadata": {},
     "output_type": "execute_result"
    }
   ],
   "source": [
    "# This will convert 200 minutes to hours by dividing by 60.\n",
    "200 / 60\n"
   ]
  },
  {
   "cell_type": "markdown",
   "id": "bea6f44d-4247-43ba-9a74-97cb852526dc",
   "metadata": {},
   "source": [
    "**Objectives:**\n",
    "- List popular languages for Data Science.\n",
    "- Introduce common data science libraries.\n",
    "- Perform arithmetic operations in Python.\n",
    "- Convert minutes to hours using Python.\n",
    "- Explore key takeaways from the course.\n"
   ]
  },
  {
   "cell_type": "markdown",
   "id": "ffd38d98-410f-4f1d-8ee1-0555bc72b732",
   "metadata": {
    "tags": []
   },
   "source": [
    "## Author\n",
    "Khalid Alkhamisi\n"
   ]
  },
  {
   "cell_type": "code",
   "execution_count": null,
   "id": "ec6d49ce-1f34-4264-bff4-1068bc06f61a",
   "metadata": {},
   "outputs": [],
   "source": []
  }
 ],
 "metadata": {
  "kernelspec": {
   "display_name": "Python 3 (ipykernel)",
   "language": "python",
   "name": "python3"
  },
  "language_info": {
   "codemirror_mode": {
    "name": "ipython",
    "version": 3
   },
   "file_extension": ".py",
   "mimetype": "text/x-python",
   "name": "python",
   "nbconvert_exporter": "python",
   "pygments_lexer": "ipython3",
   "version": "3.11.5"
  }
 },
 "nbformat": 4,
 "nbformat_minor": 5
}
